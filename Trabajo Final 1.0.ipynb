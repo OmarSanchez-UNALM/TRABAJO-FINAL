{
 "cells": [
  {
   "cell_type": "markdown",
   "id": "b97d8bb9",
   "metadata": {},
   "source": [
    "# PRIMERA FUENTE DE DATOS: World Bank"
   ]
  },
  {
   "cell_type": "code",
   "execution_count": null,
   "id": "634fa858-7856-46d3-8310-6a52568fffe0",
   "metadata": {},
   "outputs": [],
   "source": [
    "import requests\n",
    "import pandas as pd\n",
    "import json\n",
    "\n",
    "# URL base de la API de World Bank para la anemia infantil\n",
    "base_url = \"http://api.worldbank.org/v2/country/ALL/indicator/SH.ANM.CHLD.ZS\"\n",
    "\n",
    "# Definir los parámetros para la solicitud\n",
    "params = {\n",
    "    \"format\": \"json\",  # Especificar el formato JSON\n",
    "}\n",
    "\n",
    "# Lista para almacenar los datos\n",
    "all_data = []\n",
    "\n",
    "# Hacer la solicitud inicial a la API\n",
    "response = requests.get(base_url, params=params)\n",
    "\n",
    "# Verificar si la solicitud fue exitosa\n",
    "if response.status_code == 200:\n",
    "    data = response.json()  # Convertir la respuesta a JSON\n",
    "    \n",
    "    # Extraer los datos necesarios\n",
    "    if len(data) > 1:\n",
    "        all_data = data[1]  # Almacenar los registros de los indicadores\n",
    "    else:\n",
    "        print(\"No se encontraron datos en la respuesta.\")\n",
    "else:\n",
    "    print(\"Error al obtener los datos:\", response.status_code)\n",
    "\n",
    "# Convertir los datos extraídos a un DataFrame de Pandas\n",
    "df_worldbank = pd.json_normalize(all_data)\n",
    "\n",
    "# Guardar el DataFrame como archivo CSV\n",
    "output_file = \"world_bank_anemia.csv\"\n",
    "df_worldbank.to_csv(output_file, index=False, encoding=\"utf-8\")\n",
    "print(f\"Archivo CSV creado exitosamente: {output_file}\")"
   ]
  },
  {
   "cell_type": "markdown",
   "id": "1a70b340",
   "metadata": {},
   "source": [
    "# SEGUNDA FUENTE: Global Health Observatory"
   ]
  },
  {
   "cell_type": "code",
   "execution_count": null,
   "id": "354fbb49",
   "metadata": {},
   "outputs": [],
   "source": [
    "import requests\n",
    "import pandas as pd\n",
    "import json\n",
    "\n",
    "# URL base de la API de nutrición de anemia infantil\n",
    "base_url = \"https://ghoapi.azureedge.net/api/NUTRITION_ANAEMIA_CHILDREN_NUM\"\n",
    "\n",
    "# Definir los parámetros para paginación (si la API la soporta)\n",
    "params = {\n",
    "    \"$top\": 1000,  # Número de registros por página\n",
    "    \"$skip\": 0,    # Desplazamiento para la paginación\n",
    "}\n",
    "\n",
    "# Lista para almacenar todos los datos\n",
    "all_data = []\n",
    "\n",
    "# Hacer varias solicitudes hasta obtener todos los datos\n",
    "while True:\n",
    "    response = requests.get(base_url, params=params)\n",
    "    \n",
    "    # Verificar si la solicitud fue exitosa\n",
    "    if response.status_code == 200:\n",
    "        data = response.json()  # Convertir la respuesta a JSON\n",
    "        all_data.extend(data[\"value\"])  # Agregar los datos a la lista\n",
    "        \n",
    "        # Si no hay más datos (menor cantidad de datos que \"$top\"), se detiene el ciclo\n",
    "        if len(data[\"value\"]) < params[\"$top\"]:\n",
    "            break\n",
    "        \n",
    "        # Aumentar el desplazamiento para la siguiente página\n",
    "        params[\"$skip\"] += params[\"$top\"]\n",
    "    else:\n",
    "        print(\"Error al obtener los datos:\", response.status_code)\n",
    "        break\n",
    "\n",
    "# Convertir los datos a un DataFrame de Pandas\n",
    "df_gho = pd.json_normalize(all_data)\n",
    "\n",
    "# Guardar el DataFrame como archivo CSV\n",
    "output_file = \"gho_anemia.csv\"\n",
    "df_gho.to_csv(output_file, index=False, encoding=\"utf-8\")\n",
    "print(f\"Archivo CSV creado exitosamente: {output_file}\")"
   ]
  },
  {
   "cell_type": "markdown",
   "id": "56c25d6c",
   "metadata": {},
   "source": [
    "# TERCERA FUENTE: DHS Program"
   ]
  },
  {
   "cell_type": "markdown",
   "id": "946ffa11",
   "metadata": {},
   "source": [
    "### ENCUESTA 1: PORCENTAJE DE NIÑOS MENORES A 5 AÑOS CLASIFICADOS CON CUALQUIER TIPO DE ANEMIA"
   ]
  },
  {
   "cell_type": "code",
   "execution_count": null,
   "id": "5cde4477",
   "metadata": {},
   "outputs": [],
   "source": [
    "import requests\n",
    "import pandas as pd\n",
    "import json\n",
    "\n",
    "# URL base de la API de DHS (Nutrición)\n",
    "base_url = \"https://api.dhsprogram.com/rest/dhs/data/CN_ANMC_C_ANY\"\n",
    "\n",
    "# Definir los parámetros para la solicitud (si soporta paginación)\n",
    "params = {\n",
    "    \"perpage\": 1000,  # Número de registros por página\n",
    "    \"page\": 1         # Página inicial\n",
    "}\n",
    "\n",
    "# Lista para almacenar todos los datos\n",
    "all_data = []\n",
    "\n",
    "# Hacer varias solicitudes hasta obtener todos los datos\n",
    "while True:\n",
    "    # Realizar la solicitud a la API\n",
    "    response = requests.get(base_url, params=params)\n",
    "    \n",
    "    # Verificar si la solicitud fue exitosa\n",
    "    if response.status_code == 200:\n",
    "        # Convertir la respuesta a JSON\n",
    "        data = response.json()\n",
    "        \n",
    "        # Agregar los datos obtenidos a la lista\n",
    "        all_data.extend(data.get(\"Data\", []))\n",
    "        \n",
    "        # Verificar si se ha llegado al final de los resultados\n",
    "        if len(data.get(\"Data\", [])) < params[\"perpage\"]:\n",
    "            break\n",
    "        \n",
    "        # Incrementar la página para la siguiente solicitud\n",
    "        params[\"page\"] += 1\n",
    "    else:\n",
    "        print(\"Error al obtener los datos:\", response.status_code)\n",
    "        break\n",
    "\n",
    "# Convertir los datos a un DataFrame de Pandas\n",
    "df_any = pd.json_normalize(all_data)\n",
    "\n",
    "# Guardar el DataFrame como archivo CSV\n",
    "output_file = \"df_any_anemia.csv\"\n",
    "df_any.to_csv(output_file, index=False, encoding=\"utf-8\")\n",
    "print(f\"Archivo CSV creado exitosamente: {output_file}\")"
   ]
  }
 ],
 "metadata": {
  "kernelspec": {
   "display_name": "Python 3 (ipykernel)",
   "language": "python",
   "name": "python3"
  },
  "language_info": {
   "codemirror_mode": {
    "name": "ipython",
    "version": 3
   },
   "file_extension": ".py",
   "mimetype": "text/x-python",
   "name": "python",
   "nbconvert_exporter": "python",
   "pygments_lexer": "ipython3",
   "version": "3.12.4"
  }
 },
 "nbformat": 4,
 "nbformat_minor": 5
}
